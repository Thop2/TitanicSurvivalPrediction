{
 "cells": [
  {
   "cell_type": "code",
   "execution_count": 1,
   "metadata": {},
   "outputs": [],
   "source": [
    "# libraries used for data manipulation\n",
    "import pandas as pd\n",
    "import numpy as np\n",
    "# libraries used for predictive modelling\n",
    "from sklearn import linear_model\n",
    "# libraries used for data visualizations\n",
    "import seaborn as sns\n",
    "from matplotlib import pyplot as plt\n",
    "from matplotlib import style\n",
    "# ignore warnings from plotting\n",
    "import warnings\n",
    "warnings.filterwarnings(\"ignore\")"
   ]
  },
  {
   "cell_type": "code",
   "execution_count": 2,
   "metadata": {},
   "outputs": [],
   "source": [
    "# Read in initial training and testing datasets locally\n",
    "titanictrain = pd.read_csv('C:\\\\Users\\\\timho\\\\OneDrive\\\\Desktop\\\\ML\\\\Titanictrain.csv')\n",
    "titanictest = pd.read_csv('C:\\\\Users\\\\timho\\\\OneDrive\\\\Desktop\\\\ML\\\\Titanictest.csv')"
   ]
  },
  {
   "cell_type": "code",
   "execution_count": null,
   "metadata": {},
   "outputs": [],
   "source": []
  }
 ],
 "metadata": {
  "kernelspec": {
   "display_name": "Python 3.9.13 64-bit (microsoft store)",
   "language": "python",
   "name": "python3"
  },
  "language_info": {
   "codemirror_mode": {
    "name": "ipython",
    "version": 3
   },
   "file_extension": ".py",
   "mimetype": "text/x-python",
   "name": "python",
   "nbconvert_exporter": "python",
   "pygments_lexer": "ipython3",
   "version": "3.9.13"
  },
  "orig_nbformat": 4,
  "vscode": {
   "interpreter": {
    "hash": "e02f711acd36dc7f54d4c5f1d202bdcdf15c2bc4b426349bf5163fb7cd7356c9"
   }
  }
 },
 "nbformat": 4,
 "nbformat_minor": 2
}
